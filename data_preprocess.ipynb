{
 "cells": [
  {
   "cell_type": "code",
   "execution_count": 29,
   "metadata": {
    "collapsed": true,
    "pycharm": {
     "name": "#%%\n"
    }
   },
   "outputs": [],
   "source": [
    "import pandas as pd\n",
    "import numpy as np\n",
    "import os\n",
    "\n",
    "np.random.seed(1223)"
   ]
  },
  {
   "cell_type": "code",
   "execution_count": 43,
   "outputs": [],
   "source": [
    "def split_one(data, split_ratio=0.9):\n",
    "    msk = np.random.rand(len(data)) < split_ratio\n",
    "    train = data[msk]\n",
    "    test = data[~msk]\n",
    "    return train, test\n",
    "\n",
    "\n",
    "def split(data, split_ration=0.9):\n",
    "    df1_train, df1_test = split_one(data[data['sarcastic'] == 1])\n",
    "    df0_train, df0_test = split_one(data[data['sarcastic'] == 0])\n",
    "\n",
    "    train = pd.concat([df1_train, df0_train], axis=0)\n",
    "    test = pd.concat([df1_test, df0_test], axis=0)\n",
    "\n",
    "    len(train), len(test), len(df1_train), len(df1_test), len(df0_train), len(df0_test)\n",
    "    return train, test\n",
    "\n",
    "\n",
    "def write(filepath, data):\n",
    "    data.to_csv(filepath, index=False)\n"
   ],
   "metadata": {
    "collapsed": false,
    "pycharm": {
     "name": "#%%\n"
    }
   }
  },
  {
   "cell_type": "markdown",
   "source": [
    "# English Data"
   ],
   "metadata": {
    "collapsed": false,
    "pycharm": {
     "name": "#%% md\n"
    }
   }
  },
  {
   "cell_type": "code",
   "execution_count": 39,
   "outputs": [
    {
     "data": {
      "text/plain": "         sarcastic     sarcasm       irony      satire  understatement  \\\ncount  3468.000000  867.000000  867.000000  867.000000      867.000000   \nmean      0.250000    0.822376    0.178777    0.028835        0.011534   \nstd       0.433075    0.382417    0.383387    0.167439        0.106837   \nmin       0.000000    0.000000    0.000000    0.000000        0.000000   \n25%       0.000000    1.000000    0.000000    0.000000        0.000000   \n50%       0.000000    1.000000    0.000000    0.000000        0.000000   \n75%       0.250000    1.000000    0.000000    0.000000        0.000000   \nmax       1.000000    1.000000    1.000000    1.000000        1.000000   \n\n       overstatement  rhetorical_question  \ncount     867.000000           867.000000  \nmean        0.046136             0.116494  \nstd         0.209901             0.321001  \nmin         0.000000             0.000000  \n25%         0.000000             0.000000  \n50%         0.000000             0.000000  \n75%         0.000000             0.000000  \nmax         1.000000             1.000000  ",
      "text/html": "<div>\n<style scoped>\n    .dataframe tbody tr th:only-of-type {\n        vertical-align: middle;\n    }\n\n    .dataframe tbody tr th {\n        vertical-align: top;\n    }\n\n    .dataframe thead th {\n        text-align: right;\n    }\n</style>\n<table border=\"1\" class=\"dataframe\">\n  <thead>\n    <tr style=\"text-align: right;\">\n      <th></th>\n      <th>sarcastic</th>\n      <th>sarcasm</th>\n      <th>irony</th>\n      <th>satire</th>\n      <th>understatement</th>\n      <th>overstatement</th>\n      <th>rhetorical_question</th>\n    </tr>\n  </thead>\n  <tbody>\n    <tr>\n      <th>count</th>\n      <td>3468.000000</td>\n      <td>867.000000</td>\n      <td>867.000000</td>\n      <td>867.000000</td>\n      <td>867.000000</td>\n      <td>867.000000</td>\n      <td>867.000000</td>\n    </tr>\n    <tr>\n      <th>mean</th>\n      <td>0.250000</td>\n      <td>0.822376</td>\n      <td>0.178777</td>\n      <td>0.028835</td>\n      <td>0.011534</td>\n      <td>0.046136</td>\n      <td>0.116494</td>\n    </tr>\n    <tr>\n      <th>std</th>\n      <td>0.433075</td>\n      <td>0.382417</td>\n      <td>0.383387</td>\n      <td>0.167439</td>\n      <td>0.106837</td>\n      <td>0.209901</td>\n      <td>0.321001</td>\n    </tr>\n    <tr>\n      <th>min</th>\n      <td>0.000000</td>\n      <td>0.000000</td>\n      <td>0.000000</td>\n      <td>0.000000</td>\n      <td>0.000000</td>\n      <td>0.000000</td>\n      <td>0.000000</td>\n    </tr>\n    <tr>\n      <th>25%</th>\n      <td>0.000000</td>\n      <td>1.000000</td>\n      <td>0.000000</td>\n      <td>0.000000</td>\n      <td>0.000000</td>\n      <td>0.000000</td>\n      <td>0.000000</td>\n    </tr>\n    <tr>\n      <th>50%</th>\n      <td>0.000000</td>\n      <td>1.000000</td>\n      <td>0.000000</td>\n      <td>0.000000</td>\n      <td>0.000000</td>\n      <td>0.000000</td>\n      <td>0.000000</td>\n    </tr>\n    <tr>\n      <th>75%</th>\n      <td>0.250000</td>\n      <td>1.000000</td>\n      <td>0.000000</td>\n      <td>0.000000</td>\n      <td>0.000000</td>\n      <td>0.000000</td>\n      <td>0.000000</td>\n    </tr>\n    <tr>\n      <th>max</th>\n      <td>1.000000</td>\n      <td>1.000000</td>\n      <td>1.000000</td>\n      <td>1.000000</td>\n      <td>1.000000</td>\n      <td>1.000000</td>\n      <td>1.000000</td>\n    </tr>\n  </tbody>\n</table>\n</div>"
     },
     "execution_count": 39,
     "metadata": {},
     "output_type": "execute_result"
    }
   ],
   "source": [
    "df_en = pd.read_csv('./data/train.En.csv', header=0, quotechar='\"', index_col=0)\n",
    "\n",
    "df_en.describe()"
   ],
   "metadata": {
    "collapsed": false,
    "pycharm": {
     "name": "#%%\n"
    }
   }
  },
  {
   "cell_type": "code",
   "execution_count": 40,
   "outputs": [
    {
     "data": {
      "text/plain": "sarcastic\n0    2600\n1     867\nName: tweet, dtype: int64"
     },
     "execution_count": 40,
     "metadata": {},
     "output_type": "execute_result"
    }
   ],
   "source": [
    "df_en.groupby('sarcastic')['tweet'].count()"
   ],
   "metadata": {
    "collapsed": false,
    "pycharm": {
     "name": "#%%\n"
    }
   }
  },
  {
   "cell_type": "code",
   "execution_count": 44,
   "outputs": [],
   "source": [
    "train,test = split(df_en)\n",
    "os.makedirs('./data/en', exist_ok=True)\n",
    "write('./data/en/train.csv', train)\n",
    "write('./data/en/test.csv', test)"
   ],
   "metadata": {
    "collapsed": false,
    "pycharm": {
     "name": "#%%\n"
    }
   }
  },
  {
   "cell_type": "markdown",
   "source": [
    "# Arabic Data"
   ],
   "metadata": {
    "collapsed": false,
    "pycharm": {
     "name": "#%% md\n"
    }
   }
  },
  {
   "cell_type": "code",
   "execution_count": 45,
   "outputs": [
    {
     "data": {
      "text/plain": "         sarcastic\ncount  3101.000000\nmean      0.240245\nstd       0.427301\nmin       0.000000\n25%       0.000000\n50%       0.000000\n75%       0.000000\nmax       1.000000",
      "text/html": "<div>\n<style scoped>\n    .dataframe tbody tr th:only-of-type {\n        vertical-align: middle;\n    }\n\n    .dataframe tbody tr th {\n        vertical-align: top;\n    }\n\n    .dataframe thead th {\n        text-align: right;\n    }\n</style>\n<table border=\"1\" class=\"dataframe\">\n  <thead>\n    <tr style=\"text-align: right;\">\n      <th></th>\n      <th>sarcastic</th>\n    </tr>\n  </thead>\n  <tbody>\n    <tr>\n      <th>count</th>\n      <td>3101.000000</td>\n    </tr>\n    <tr>\n      <th>mean</th>\n      <td>0.240245</td>\n    </tr>\n    <tr>\n      <th>std</th>\n      <td>0.427301</td>\n    </tr>\n    <tr>\n      <th>min</th>\n      <td>0.000000</td>\n    </tr>\n    <tr>\n      <th>25%</th>\n      <td>0.000000</td>\n    </tr>\n    <tr>\n      <th>50%</th>\n      <td>0.000000</td>\n    </tr>\n    <tr>\n      <th>75%</th>\n      <td>0.000000</td>\n    </tr>\n    <tr>\n      <th>max</th>\n      <td>1.000000</td>\n    </tr>\n  </tbody>\n</table>\n</div>"
     },
     "execution_count": 45,
     "metadata": {},
     "output_type": "execute_result"
    }
   ],
   "source": [
    "df_ar = pd.read_csv('./data/train.Ar.csv', header=0, quotechar='\"', index_col=0)\n",
    "\n",
    "df_ar.describe()"
   ],
   "metadata": {
    "collapsed": false,
    "pycharm": {
     "name": "#%%\n"
    }
   }
  },
  {
   "cell_type": "code",
   "execution_count": 46,
   "outputs": [
    {
     "data": {
      "text/plain": "sarcastic\n0    2356\n1     745\nName: tweet, dtype: int64"
     },
     "execution_count": 46,
     "metadata": {},
     "output_type": "execute_result"
    }
   ],
   "source": [
    "df_ar.groupby('sarcastic')['tweet'].count()"
   ],
   "metadata": {
    "collapsed": false,
    "pycharm": {
     "name": "#%%\n"
    }
   }
  },
  {
   "cell_type": "code",
   "execution_count": 47,
   "outputs": [],
   "source": [
    "train,test = split(df_ar)\n",
    "os.makedirs('./data/ar', exist_ok=True)\n",
    "write('./data/ar/train.csv', train)\n",
    "write('./data/ar/test.csv', test)"
   ],
   "metadata": {
    "collapsed": false,
    "pycharm": {
     "name": "#%%\n"
    }
   }
  }
 ],
 "metadata": {
  "kernelspec": {
   "display_name": "Python 3",
   "language": "python",
   "name": "python3"
  },
  "language_info": {
   "codemirror_mode": {
    "name": "ipython",
    "version": 2
   },
   "file_extension": ".py",
   "mimetype": "text/x-python",
   "name": "python",
   "nbconvert_exporter": "python",
   "pygments_lexer": "ipython2",
   "version": "2.7.6"
  }
 },
 "nbformat": 4,
 "nbformat_minor": 0
}